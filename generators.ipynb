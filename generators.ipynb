{
 "cells": [
  {
   "cell_type": "code",
   "execution_count": 6,
   "metadata": {},
   "outputs": [],
   "source": [
    "p = 97"
   ]
  },
  {
   "cell_type": "code",
   "execution_count": 58,
   "metadata": {},
   "outputs": [],
   "source": [
    "def is_generator(g: int, p: int) -> bool:\n",
    "    if(g>=p): \n",
    "        raise Exception(\"G cannot be greater than P\")\n",
    "    \n",
    "    results = []\n",
    "    for k in range(0,p-1):\n",
    "        results.append(g**k % p)\n",
    "\n",
    "    return len(results) == len(set(results))"
   ]
  },
  {
   "cell_type": "code",
   "execution_count": 59,
   "metadata": {},
   "outputs": [
    {
     "data": {
      "text/plain": [
       "False"
      ]
     },
     "execution_count": 59,
     "metadata": {},
     "output_type": "execute_result"
    }
   ],
   "source": [
    "is_generator(4, 97)"
   ]
  },
  {
   "cell_type": "code",
   "execution_count": 60,
   "metadata": {},
   "outputs": [],
   "source": [
    "def find_generators(p: int) -> list: \n",
    "    generators = []   \n",
    "    for x in range(0,p):\n",
    "        if(is_generator(x, p)):\n",
    "            generators.append(x)\n",
    "    return generators"
   ]
  },
  {
   "cell_type": "code",
   "execution_count": 61,
   "metadata": {},
   "outputs": [
    {
     "data": {
      "text/plain": [
       "[5,\n",
       " 7,\n",
       " 10,\n",
       " 13,\n",
       " 14,\n",
       " 15,\n",
       " 17,\n",
       " 21,\n",
       " 23,\n",
       " 26,\n",
       " 29,\n",
       " 37,\n",
       " 38,\n",
       " 39,\n",
       " 40,\n",
       " 41,\n",
       " 56,\n",
       " 57,\n",
       " 58,\n",
       " 59,\n",
       " 60,\n",
       " 68,\n",
       " 71,\n",
       " 74,\n",
       " 76,\n",
       " 80,\n",
       " 82,\n",
       " 83,\n",
       " 84,\n",
       " 87,\n",
       " 90,\n",
       " 92]"
      ]
     },
     "execution_count": 61,
     "metadata": {},
     "output_type": "execute_result"
    }
   ],
   "source": [
    "find_generators(p)"
   ]
  },
  {
   "cell_type": "code",
   "execution_count": null,
   "metadata": {},
   "outputs": [],
   "source": []
  }
 ],
 "metadata": {
  "kernelspec": {
   "display_name": "Python 3",
   "language": "python",
   "name": "python3"
  },
  "language_info": {
   "codemirror_mode": {
    "name": "ipython",
    "version": 3
   },
   "file_extension": ".py",
   "mimetype": "text/x-python",
   "name": "python",
   "nbconvert_exporter": "python",
   "pygments_lexer": "ipython3",
   "version": "3.9.6"
  },
  "orig_nbformat": 4
 },
 "nbformat": 4,
 "nbformat_minor": 2
}
